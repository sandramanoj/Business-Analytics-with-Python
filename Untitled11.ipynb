{
  "nbformat": 4,
  "nbformat_minor": 0,
  "metadata": {
    "colab": {
      "provenance": [],
      "authorship_tag": "ABX9TyNvv1CuIoe5tdlD4bmQs4wx",
      "include_colab_link": true
    },
    "kernelspec": {
      "name": "python3",
      "display_name": "Python 3"
    },
    "language_info": {
      "name": "python"
    }
  },
  "cells": [
    {
      "cell_type": "markdown",
      "metadata": {
        "id": "view-in-github",
        "colab_type": "text"
      },
      "source": [
        "<a href=\"https://colab.research.google.com/github/sandramanoj/Business-Analytics-with-Python/blob/main/Untitled11.ipynb\" target=\"_parent\"><img src=\"https://colab.research.google.com/assets/colab-badge.svg\" alt=\"Open In Colab\"/></a>"
      ]
    },
    {
      "cell_type": "code",
      "execution_count": 3,
      "metadata": {
        "colab": {
          "base_uri": "https://localhost:8080/"
        },
        "id": "JfxyoL0Xx6O_",
        "outputId": "c1fe75b1-5eed-493e-f5fd-308f9742ecf1"
      },
      "outputs": [
        {
          "output_type": "stream",
          "name": "stdout",
          "text": [
            "This is \"Python\" programming\n"
          ]
        }
      ],
      "source": [
        "x=\"This is \\\"Python\\\" programming\"\n",
        "print(x)"
      ]
    },
    {
      "cell_type": "code",
      "source": [
        "print(\"\\\"sandra\\\"manoj palathra\")"
      ],
      "metadata": {
        "colab": {
          "base_uri": "https://localhost:8080/"
        },
        "id": "9hUEFBCNyabE",
        "outputId": "132ab536-efc8-4399-e430-578f896637d1"
      },
      "execution_count": 4,
      "outputs": [
        {
          "output_type": "stream",
          "name": "stdout",
          "text": [
            "\"sandra\"manoj palathra\n"
          ]
        }
      ]
    },
    {
      "cell_type": "code",
      "source": [
        "print(\"he is a\\\"big boy\\\"\")"
      ],
      "metadata": {
        "colab": {
          "base_uri": "https://localhost:8080/"
        },
        "id": "uf7CRJRXz1mm",
        "outputId": "6f3e9acf-4bee-4f48-8e98-48ea2cb47de7"
      },
      "execution_count": 5,
      "outputs": [
        {
          "output_type": "stream",
          "name": "stdout",
          "text": [
            "he is a\"big boy\"\n"
          ]
        }
      ]
    },
    {
      "cell_type": "code",
      "source": [
        "print(\"sandra\\n manoj palathra\")"
      ],
      "metadata": {
        "colab": {
          "base_uri": "https://localhost:8080/"
        },
        "id": "OFVR8Q5D0wz1",
        "outputId": "f5586d0e-407a-4c00-b611-f1b40f8d2e47"
      },
      "execution_count": 6,
      "outputs": [
        {
          "output_type": "stream",
          "name": "stdout",
          "text": [
            "sandra\n",
            " manoj palathra\n"
          ]
        }
      ]
    },
    {
      "cell_type": "code",
      "source": [
        "x=[\"sandra\",\"manoj\",\"palathra\"]\n",
        "x.insert(2,\"jano\")\n",
        "print(x)"
      ],
      "metadata": {
        "colab": {
          "base_uri": "https://localhost:8080/"
        },
        "id": "rQTWgkTD1KZP",
        "outputId": "25d9c37d-8774-4335-94e7-5f60f6463c7a"
      },
      "execution_count": 12,
      "outputs": [
        {
          "output_type": "stream",
          "name": "stdout",
          "text": [
            "['sandra', 'manoj', 'jano', 'palathra']\n"
          ]
        }
      ]
    },
    {
      "cell_type": "code",
      "source": [
        "x=[\"sandra\",\"manoj\",\"palathra\"]\n",
        "y=input(\"Enter a name\")\n",
        "n=int(input(\"enter an index\"))\n",
        "x.insert(n,y)\n",
        "print(x)"
      ],
      "metadata": {
        "colab": {
          "base_uri": "https://localhost:8080/"
        },
        "id": "8lNwwRaI196j",
        "outputId": "5fd80951-e136-42c9-987e-0fad33ed6788"
      },
      "execution_count": 16,
      "outputs": [
        {
          "output_type": "stream",
          "name": "stdout",
          "text": [
            "Enter a namejano\n",
            "enter an index2\n",
            "['sandra', 'manoj', 'jano', 'palathra']\n"
          ]
        }
      ]
    },
    {
      "cell_type": "code",
      "source": [
        "def jano():\n",
        "  y=int(input(\"Enter Index:\"))\n",
        "  n=input(\"Enter a Name:\")\n",
        "  x.insert(y,n)"
      ],
      "metadata": {
        "id": "Oc1VGw2I4JDg"
      },
      "execution_count": 17,
      "outputs": []
    },
    {
      "cell_type": "code",
      "source": [
        "jano()"
      ],
      "metadata": {
        "colab": {
          "base_uri": "https://localhost:8080/"
        },
        "id": "x7-Ok7Gj-Yfc",
        "outputId": "bacfdcf9-d35c-4c72-d833-95e7692547c9"
      },
      "execution_count": 18,
      "outputs": [
        {
          "name": "stdout",
          "output_type": "stream",
          "text": [
            "Enter Index:2\n",
            "Enter a Name:sandra\n"
          ]
        }
      ]
    },
    {
      "cell_type": "code",
      "source": [
        "def sandra():\n",
        "  a=int(input(\"enter number: \"))\n",
        "  b=int(input(\"enter a number: \"))\n",
        "  print(a+b)\n",
        "  print(a-b)\n",
        "  print(a/b)\n",
        "  print(a*b)"
      ],
      "metadata": {
        "id": "xoGq_KaQ-beb"
      },
      "execution_count": 21,
      "outputs": []
    },
    {
      "cell_type": "code",
      "source": [
        "sandra"
      ],
      "metadata": {
        "colab": {
          "base_uri": "https://localhost:8080/"
        },
        "id": "UHYi9JsxABcN",
        "outputId": "72ff0be4-c7cc-4ce2-d674-2fbffac42841"
      },
      "execution_count": 22,
      "outputs": [
        {
          "output_type": "stream",
          "name": "stdout",
          "text": [
            "enter number: 50\n",
            "enter a number: 10\n",
            "60\n",
            "40\n",
            "5.0\n",
            "500\n"
          ]
        }
      ]
    },
    {
      "cell_type": "code",
      "source": [
        "def add(a,b):\n",
        "  print(a+b)\n",
        "def sub(a,b):\n",
        "  print(a-b)\n",
        "def divid(a,b):\n",
        "  print(a/b)\n",
        "def multi(a,b):\n",
        "  print(a*b)"
      ],
      "metadata": {
        "id": "PlHPhJOIAFTj"
      },
      "execution_count": 27,
      "outputs": []
    },
    {
      "cell_type": "code",
      "source": [
        "x=int(input(\"enter first value\"))\n",
        "y=int(input(\"enter second value\"))\n",
        "maths(x,y)"
      ],
      "metadata": {
        "colab": {
          "base_uri": "https://localhost:8080/"
        },
        "id": "u_5CnuGvEdhb",
        "outputId": "304595c9-cbdc-46a8-a06e-49227c513b8b"
      },
      "execution_count": 26,
      "outputs": [
        {
          "output_type": "stream",
          "name": "stdout",
          "text": [
            "enter first value20\n",
            "enter second value10\n",
            "30\n",
            "10\n",
            "2.0\n",
            "200\n"
          ]
        }
      ]
    },
    {
      "cell_type": "code",
      "source": [],
      "metadata": {
        "id": "pQorRd99EoGV"
      },
      "execution_count": null,
      "outputs": []
    }
  ]
}