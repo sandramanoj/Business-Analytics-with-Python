{
  "nbformat": 4,
  "nbformat_minor": 0,
  "metadata": {
    "colab": {
      "provenance": [],
      "authorship_tag": "ABX9TyPjcppq54B7Ez7iLFYrENVH",
      "include_colab_link": true
    },
    "kernelspec": {
      "name": "python3",
      "display_name": "Python 3"
    },
    "language_info": {
      "name": "python"
    }
  },
  "cells": [
    {
      "cell_type": "markdown",
      "metadata": {
        "id": "view-in-github",
        "colab_type": "text"
      },
      "source": [
        "<a href=\"https://colab.research.google.com/github/sandramanoj/Business-Analytics-with-Python/blob/main/untitled13.ipynb\" target=\"_parent\"><img src=\"https://colab.research.google.com/assets/colab-badge.svg\" alt=\"Open In Colab\"/></a>"
      ]
    },
    {
      "cell_type": "code",
      "execution_count": null,
      "metadata": {
        "id": "3qKLwNSdaNSO"
      },
      "outputs": [],
      "source": [
        "x=[2,5,8,7,4,44]"
      ]
    },
    {
      "cell_type": "code",
      "source": [
        "def abc(x):\n",
        "  print(\"The sum of the number is:\",sum(x))"
      ],
      "metadata": {
        "id": "ndgrPPSyaeW2"
      },
      "execution_count": null,
      "outputs": []
    },
    {
      "cell_type": "code",
      "source": [
        "abc(x)"
      ],
      "metadata": {
        "colab": {
          "base_uri": "https://localhost:8080/"
        },
        "id": "64combgyazvk",
        "outputId": "119fff20-1efe-4bcc-9647-fb781adc4572"
      },
      "execution_count": null,
      "outputs": [
        {
          "output_type": "stream",
          "name": "stdout",
          "text": [
            "The sum of the number is: 70\n"
          ]
        }
      ]
    },
    {
      "cell_type": "code",
      "source": [
        "def asd(x):\n",
        "  for i in x:\n",
        "    if i%2==0:\n",
        "      print(i,\"is even number\")\n",
        "    else:\n",
        "      print(i,\"is odd number\")"
      ],
      "metadata": {
        "id": "FSpekxdJa2i0"
      },
      "execution_count": null,
      "outputs": []
    },
    {
      "cell_type": "code",
      "source": [
        "asd(x)"
      ],
      "metadata": {
        "colab": {
          "base_uri": "https://localhost:8080/"
        },
        "id": "ADhxUYb9cTWH",
        "outputId": "1e8eb464-9f17-4562-e31c-49abb9129472"
      },
      "execution_count": null,
      "outputs": [
        {
          "output_type": "stream",
          "name": "stdout",
          "text": [
            "2 is even number\n",
            "5 is odd number\n",
            "8 is even number\n",
            "7 is odd number\n",
            "4 is even number\n",
            "44 is even number\n"
          ]
        }
      ]
    },
    {
      "cell_type": "code",
      "source": [
        "b=\"Python is a high-level, general-purpose programming language.\"\n",
        "\n"
      ],
      "metadata": {
        "id": "Dv5jSsnRc_kj"
      },
      "execution_count": null,
      "outputs": []
    },
    {
      "cell_type": "code",
      "source": [
        "def zxc(b):\n",
        "  for i in b:\n",
        "    if ((i==\"a\") or(i==\"e\")or(i==\"i\")or(i==\"o\")or(i==\"u\")):\n",
        "      print(\"The alphabet is vowels:\",i)\n",
        "    else:\n",
        "      print(\"It is not vowels\")"
      ],
      "metadata": {
        "id": "i4Yn15nMh5Ak"
      },
      "execution_count": null,
      "outputs": []
    },
    {
      "cell_type": "code",
      "source": [
        "zxc(b)"
      ],
      "metadata": {
        "colab": {
          "base_uri": "https://localhost:8080/"
        },
        "id": "O8-qvQlbjApm",
        "outputId": "7835252b-b806-4a9f-e402-bb3f8ea90175"
      },
      "execution_count": null,
      "outputs": [
        {
          "output_type": "stream",
          "name": "stdout",
          "text": [
            "It is not vowels\n",
            "It is not vowels\n",
            "It is not vowels\n",
            "It is not vowels\n",
            "The alphabet is vowels: o\n",
            "It is not vowels\n",
            "It is not vowels\n",
            "The alphabet is vowels: i\n",
            "It is not vowels\n",
            "It is not vowels\n",
            "The alphabet is vowels: a\n",
            "It is not vowels\n",
            "It is not vowels\n",
            "The alphabet is vowels: i\n",
            "It is not vowels\n",
            "It is not vowels\n",
            "It is not vowels\n",
            "It is not vowels\n",
            "The alphabet is vowels: e\n",
            "It is not vowels\n",
            "The alphabet is vowels: e\n",
            "It is not vowels\n",
            "It is not vowels\n",
            "It is not vowels\n",
            "It is not vowels\n",
            "The alphabet is vowels: e\n",
            "It is not vowels\n",
            "The alphabet is vowels: e\n",
            "It is not vowels\n",
            "The alphabet is vowels: a\n",
            "It is not vowels\n",
            "It is not vowels\n",
            "It is not vowels\n",
            "The alphabet is vowels: u\n",
            "It is not vowels\n",
            "It is not vowels\n",
            "The alphabet is vowels: o\n",
            "It is not vowels\n",
            "The alphabet is vowels: e\n",
            "It is not vowels\n",
            "It is not vowels\n",
            "It is not vowels\n",
            "The alphabet is vowels: o\n",
            "It is not vowels\n",
            "It is not vowels\n",
            "The alphabet is vowels: a\n",
            "It is not vowels\n",
            "It is not vowels\n",
            "The alphabet is vowels: i\n",
            "It is not vowels\n",
            "It is not vowels\n",
            "It is not vowels\n",
            "It is not vowels\n",
            "The alphabet is vowels: a\n",
            "It is not vowels\n",
            "It is not vowels\n",
            "The alphabet is vowels: u\n",
            "The alphabet is vowels: a\n",
            "It is not vowels\n",
            "The alphabet is vowels: e\n",
            "It is not vowels\n"
          ]
        }
      ]
    },
    {
      "cell_type": "code",
      "source": [],
      "metadata": {
        "id": "ms_FiT0ajGOG"
      },
      "execution_count": null,
      "outputs": []
    }
  ]
}